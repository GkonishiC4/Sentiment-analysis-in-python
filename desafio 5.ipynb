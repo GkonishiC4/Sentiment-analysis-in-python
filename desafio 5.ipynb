{
 "cells": [
  {
   "cell_type": "code",
   "execution_count": 3,
   "id": "25c98f35",
   "metadata": {},
   "outputs": [],
   "source": [
    "import tweepy as tw\n",
    "import pandas as pd\n",
    "\n"
   ]
  },
  {
   "cell_type": "code",
   "execution_count": 4,
   "id": "8d3c0e03",
   "metadata": {},
   "outputs": [],
   "source": [
    "bearer_token ='AAAAAAAAAAAAAAAAAAAAAPX6egEAAAAApwldbV5Dtz2Qk%2F1I7CBLAEtBoP8%3DDbwEDtAm7kdkdFslmpZpqq8zSP6WAjfsN3gPwvlURvWAjTz21M' \n",
    "consumer_key ='BHprOcd8SQ5XnI60LAMxW47Ec'\n",
    "consumer_secret ='2ZZcqbYv0oj4Dst9j4w6DJWTtv03kB6bvWeDuz9WqcD61rcei4' \n",
    "access_token ='3154080171-houp6OPARod8yGvdjTxbL1CczRU4dlwKelbamGi'\n",
    "access_toke_secret ='pSc6KsJBLvtRaesQfzCXDNKwFjrg5fg6ohB6kKuc5pnFE'"
   ]
  },
  {
   "cell_type": "code",
   "execution_count": 5,
   "id": "6ddbbd2a",
   "metadata": {
    "scrolled": false
   },
   "outputs": [],
   "source": [
    "cliente = tw.Client(bearer_token=bearer_token, consumer_key=consumer_key, consumer_secret=consumer_secret, access_token=access_token, access_token_secret=access_toke_secret)"
   ]
  },
  {
   "cell_type": "code",
   "execution_count": 6,
   "id": "fbed4dd6",
   "metadata": {},
   "outputs": [],
   "source": [
    "start = '2022-07-12T11:10:01Z'\n",
    "end = '2022-07-12T16:12:01Z'"
   ]
  },
  {
   "cell_type": "code",
   "execution_count": 7,
   "id": "6bb3774e",
   "metadata": {
    "scrolled": true
   },
   "outputs": [],
   "source": [
    "resp=cliente.search_recent_tweets('bolsonaro',max_results=100)"
   ]
  },
  {
   "cell_type": "code",
   "execution_count": 8,
   "id": "009fa56b",
   "metadata": {},
   "outputs": [],
   "source": [
    "tweets = resp.data"
   ]
  },
  {
   "cell_type": "code",
   "execution_count": 9,
   "id": "d09b533c",
   "metadata": {
    "collapsed": true
   },
   "outputs": [
    {
     "name": "stdout",
     "output_type": "stream",
     "text": [
      "@geraldop1hot @Rconstantino Bolsonaro não tenha dúvida\n",
      "RT @abocadelobo: 🚨🐺🐺NÚMEROS IMPORTANTES\n",
      "\n",
      "82% confiam nas urnas eletrônicas\n",
      "\n",
      "70% dizem que aumento da gasolina é culpa do Bolsonaro\n",
      "\n",
      "53% NUN…\n",
      "RT @filipesabara: Nossa, você defende o Bolsonaro abertamente? E como ficam suas empresas e seus sócios? E o instituto que você toca? Você…\n",
      "RT @Biakicis: E aí, capitão, Lula ou Bolsonaro? https://t.co/r4AoxLPeA2\n",
      "RT @Antagoniza11: Novo jingle da campanha de Bolsonaro está bombando em todo o nordeste.\n",
      "Façam chegar a mais pessoas.\n",
      "@jairbolsonaro @Carlo…\n",
      "RT @lovsmahh: O IDOLO DELAS DEVE SER O BOLSONARO KAMI NAO O LOU\n",
      "RT @GuilhermeBoulos: O Brasil perdeu o equivalente a um estado do RJ de vegetação nativa nos últimos 3 anos, aponta relatório do MapBiomas.…\n",
      "RT @LulaOficial: Bolsonaro faz cortina de fumaça dizendo que defende a família, mas a realidade de nossas crianças é triste. Políticas soci…\n",
      "RT @direitasiqueira: APOSTO QUE ESSE ROGER WATERS SÓ FALA MAL DO BOLSONARO PORQUE VIVEU A VIDA TODA DE LEI ROUANET E AGORA A TETA SECOU!!!…\n",
      "RT @CamargoDireita: Bolsonaro é defensor da bandeira, responsável pelo renascimento do patriotismo no Brasil. \n",
      "A juíza deveria se preocupar…\n",
      "RT @BrazilFight: Hoje acontecerá a reunião de Bolsonaro com embaixadores. O presidente prometeu revelar provas de que ele venceu no primeir…\n",
      "RT @PedroRonchi2: Se os pobres entendessem que a elite financiou os políticos de direita para dar o golpe na Dilma, prender o Lula e eleger…\n",
      "RT @lilicabust: Os governadores tomando pra si a exelência de baixar o ICMS do combustíveis, energia elétrica, comunicaçães e  transporte c…\n",
      "RT @JornalDaCidadeO: Deputado aciona PGR e STF para investigar responsáveis por simulação de assassinato de Bolsonaro (veja o vídeo) \n",
      "\n",
      "“Iss…\n",
      "RT @renatoroseno: 1 Bolsonaro fez explodir a fome e a miséria no Brasil, além de ter contribuído para a tragédia da pandemia de Covid, que…\n",
      "As urnas estão preparadíssimas para eleição,Bolsonaro que não está preparado para a derrota retumbante.\n",
      "@GuigaPeixotoSP E lembrando em que SP foi praticamente esquecido pelo governo federal devido a guerra idiota entre Doria x Bolsonaro. e sobre professor não se esqueça do corte gigantesco nos recursos do MEC do seu governo. Sei disso pois meu filho estuda no IFSP.\n",
      "RT @MarioGoMaior: Quem nasce para Frouxo,  nunca chega a Bolsonaro...🤣😂🤣😂🇧🇷🇧🇷2️⃣2️⃣ https://t.co/tHI9DqRPxa\n",
      "RT @deputadomoraes: O Governo Bolsonaro tem como um dos seus principais méritos quebrar o direcionamento do nosso suor à elite burguesa esq…\n",
      "RT @LUHBOLSONARO22: ANTIGAMENTE EU APOIAVA O BOLSONARO EM TUDO. HOJE EM DIA ESTOU IGUAL ANTIGAMENTE 🇧🇷\n",
      "RT @AnaRibas170175: 1 Bolsonaro acordou uma nação! https://t.co/KLhTS16zoI\n",
      "RT @RaphaelPizziol2: Menos de 24 hs para Bolsonaro revelar a maior BOMBA sobre o T$E.\n",
      "Quem viver verá!!!!!\n",
      "RT @dorivallacerda: O PT - partido dos corruptos, segue sua saga de especialização em corrupção. Agora com mestrado e doutorado em corrupçã…\n",
      "@MorenaRosa73 O meu rei, nosso rei...amooooo meu o nosso PR Bolsonaro!♥╣[-_-]╠♥(◍•ᴗ•◍)❤💚💛💚💛\n",
      "RT @GugaRosen: 1 Bolsonaro leva milhares às ruas\n",
      "DE GRAÇA no nordeste brasileiro que se libertou do cabresto do Carniça!\n",
      "Parabéns povo lind…\n",
      "RT @MariaZa04084340: Sou mineira e moro atualmente no Estado do ES … primeira coisa que fiz foi a transferência do meu título eleitor para…\n",
      "RT @bio_0211: Alerta Brasileiros🚨🚨🚨\n",
      "\n",
      "Dr. Maria Emília Gadelha disse no evento “Invisíveis Experimentais” que Marcelo Queiroga está pensando…\n",
      "@naohirotw @thallesilva_ @GugaNoblat quem votou nos deputados do centrão não foi Bolsonaro, fomos nós no passado onde TD era normal, infelizmente o presidente não governa só, precisa do apóio do congresso. Agora cabe ao povo colocar gente honesta no congresso e no cenado para o bem do Brasil.\n",
      "@jairbolsonaro Essa camisa é do Povo, ela representa a paz o amor, Bolsonaro vc é a vergonha desse país 😡🤮. https://t.co/i4018KWCqu\n",
      "RT @o_borto: @ellen_jabour O Roger Waters é músico e militante antifascista desde sempre. Já fui há 3 shows dele no Brasil e sempre tem exi…\n",
      "RT @brubacker2: 1 Bolsonaro O MENTIROSO DA REPÚBLICA destruiu o Brasil\n",
      "\n",
      "Lula 2022\n",
      "#LulaNo1ºTurno https://t.co/YmpX4ZVVB2\n",
      "Gestão Bolsonaro dribla TCU e fecha contrato de R$ 450 mi em licitação sob suspeita\n",
      "Secretaria de Comunicação sabia de apuração, mas assinou contrato; órgão e empresa contratada não se pronunciaram\n",
      "\n",
      "https://t.co/X1ZthcPZHj\n",
      "RT @edsonpcosta_: A pandemia revelou a grandeza do Presidente Jair Bolsonaro, sua coragem e comprometimento em preparar o país para ser o q…\n",
      "RT @marileneoliva: @CamargoDireita Juíza faz campanha de graça para o Presidente Bolsonaro. Bolsonaro bandeira do Brasil e Luladrão bandeir…\n",
      "@larissalima11 @Rconstantino Me prove que o Presidente Bolsonaro  é bandido, ladrão do dinheiro público formador de quadrilha, amigo do PCC, traidor dá Pátria.  Você deveria ter vergonha de apoia um bandido de alta periculosidade.\n",
      "caralho é inacreditável que existam pessoas que realmente vão votar no bolsonaro\n",
      "RT @abocadelobo: 🚨🐺🐺NÚMEROS IMPORTANTES\n",
      "\n",
      "82% confiam nas urnas eletrônicas\n",
      "\n",
      "70% dizem que aumento da gasolina é culpa do Bolsonaro\n",
      "\n",
      "53% NUN…\n",
      "RT @revistaoeste: Bolsonaro espera pelo menos 40 embaixadores em reunião sobre eleições https://t.co/Nqb6zJX0Ek\n",
      "@senadorhumberto Bolsonaro vai ganhar no primeiro turno , ainda mais agora que o exército vai participar do processo eleitoral. Nem você acredita no DataFolha 🤦🏻\n",
      "MP junto ao TCU pede anulação da PEC Eleitoral e fala em impugnação de Bolsonaro https://t.co/bgNeXSNBQo\n",
      "@CarlaZambelli38 @jairbolsonaro @tarcisiogdf Meus parabéns por sua importante decisão, não voto em São Paulo mas torço muito por você, Tarcísio e principalmente o nosso Presidente Jair o MESSIAS Bolsonaro.\n",
      "@TenenteSantini @capitaoderrite @tarcisiogdf Aqui a única PM que temos é excelente e de primeiro mundo. Mas não queremos PM de Bolsonaro, que cai de paraquedas.\n",
      "RT @henriolliveira_: O vídeo encenando o assassinato de BOLSONARO é muito mais grave que o de DANIEL SILVEIRA, por um motivo bem simples:…\n",
      "RT @senadorhumberto: A especialidade de Bolsonaro é matar, mentir e disseminar ódio. MENTIROSO DA REPÚBLICA https://t.co/6eEH1Bdy7p\n",
      "RT @Damadeferroofic: Lula tem na palma de sua mão: Imprensa, Pesquisas, Classe artística, Banqueiros, Metacapitalistas, Bots.\n",
      "\n",
      "Bolsonaro: O…\n",
      "RT @inter1414: Rússia já anunciou, Grande Bolsonaro! https://t.co/hbOohn4T81\n",
      "@prodbyweuxy @Alessan96853583 @ludisassis @gwbrielc @dylanbounce @Itspedrito Só roubar que é errado então né? Nem parece que os discursos do bolsonaro matam pessoas todo dia e inclusive matou milhares na pandemia. Passam pano porquê acham que fala não influencia em nada, vocês são muito alienados, uma pena.\n",
      "RT @JMPatriota22: Bolsonaro é o \"Capitão do Povo\" que vai vencer de novo, em 2022 é 22 , concordam ? RT ou digita 22, bora lá ?🤗😍🇧🇷\n",
      "RT @JenoOliveiraa: Eu não defendo um homem; eu defendo ideias e repúdio outras. Porém, negar que Bolsonaro está enfrentando um sistema de s…\n",
      "RT @glovesnews: ++ PLANTÃO/Bolsonaro: Petrobras precisa entender que estamos em guerra\n",
      "\n",
      "++ Se tiver que trocar 10 vezes o presidente da Pet…\n",
      "RT @lfdavilaoficial: Pelo que eu entendi, a @Anitta não votaria em Lula numa eleição normal e só declarou seu voto pra tirar o Bolsonaro.…\n",
      "RT @AdrillesPistola: É hoje que Bolsonaro irá reunir os embaixadores para explicar como funciona nosso processo eleitoral?\n",
      "RT @JanainaDoBrasil: Carla, votei em Bolsonaro em 2018 e votarei em 2022. Ao liberar Lula para concorrer, o STF inviabilizou uma terceira v…\n",
      "“eu apoio o bolsonaro por causa da família” é realmente,ele ja ta no quarto casamento e tem um filho de cada mulher,ótimo exemplo 👏🏻\n",
      "@PastoJosias Não gosto da Oi\n",
      "Amo a Tim\n",
      "Abro exceção é claro.\n",
      "Há quanto anos com Bolsonaro no poder eu não , vivo.\n",
      "#lulaeleitonoprimeiroturno\n",
      "RT @SmithHays88: Gente do céu, os candidatos do Bolsonaro vão vencer nos 26 estados! QUE MARAVILHA DE PAÍS TEREMOS A PARTIR DE 2023! 🤩 Vamo…\n",
      "RT @SergioAJBarrett: Então essa foi a \"multidão\" que estava na manifestação para Bolsonaro, em Fortaleza? https://t.co/dWz6qIeRf7\n",
      "@miriamleitao Eis o artigo para quem não tem assinatura do O Globo\n",
      "\n",
      "https://t.co/lxmDAvxQhv\n",
      "@JornalDaCidadeO Bolsonaro, Neles.\n",
      "RT @GabrielKustow: Datapovo no show pró Bolsonaro 🤭🤭 https://t.co/XayR3eeopv\n",
      "RT @tesoureiros: O PLANO ERA DEIXAR MORRER\n",
      "\n",
      "Mas nem o luto nos foi permitido. Estimulados por Bolsonaro, abutres tripudiaram até dos mortos…\n",
      "RT @LucianoHangBr: Compartilho com vocês esse vídeo do Gustavo Gayer sobre as pesquisas eleitorais de 2022. Bolsonaro é o presidente do paí…\n",
      "RT @LulaOficial: A fala da antropóloga Beatriz Matos, viúva de Bruno Pereira, lembra a falta de solidariedade de Bolsonaro e da Funai hoje.…\n",
      "IVAN KLEBER\n",
      "\"🚨Espanha 🇪🇸/ França 🇫🇷:Na Espanha os incêndios devastaram  mais de 25.000 hectares de florestas e na França (que está em alerta máximo) o número chega a 14.000 hectares de vegetação destruída.\"\n",
      "SERÁ QUE É CULPA DO BOLSONARO TAMBÉM?\n",
      "RT @dorivallacerda: Urgente: Bolsonaro pede para retirar a barreira se proteção e Olha só o que aconteceu. O cara além de destemido e difer…\n",
      "@alexgbsilva @magazineluiza No PT, salario mínimo $$ 400 (R$ 2000)? Kkkkkkk\n",
      "No bolsonaro, salário mínimo $$ 187 (950)kkkkkkkkk\n",
      "E eu perdendo tempo com um idiota util kkkkkkkkkkk\n",
      "RT @EdRaposo_: Ruy Guerra alega que a cena em que Bolsonaro é assassinado foi ‘tirada de contexto’. Canalha. Tirado de contexto foi o rotei…\n",
      "RT @senadorhumberto: A especialidade de Bolsonaro é matar, mentir e disseminar ódio. MENTIROSO DA REPÚBLICA https://t.co/6eEH1Bdy7p\n",
      "@GugaNoblat Culpa do Bolsonaro. Kkkkkk\n",
      "RT @FabianoSeveri14: PREOCUPANTE! Com 3 anos de política de armamento de Bolsonaro temos 605 mil civis armados. O número é maior do que o e…\n",
      "RT @rafaelbboa: GAMBITO DO BOZO\n",
      "\n",
      "Governadores oposicionistas no dilema:\n",
      "\n",
      "Baixam ICMS - fortalecem Bolsonaro.\n",
      "\n",
      "Não baixam ICMS, mostrando ao…\n",
      "RT @senadorhumberto: Uma ótima sugestão da jornalista Cristina Serra. O \"revogaço\" não resolverá tudo, pois já há um imenso arsenal em mãos…\n",
      "RT @GuilhermeBoulos: O Brasil perdeu o equivalente a um estado do RJ de vegetação nativa nos últimos 3 anos, aponta relatório do MapBiomas.…\n",
      "RT @BradoJornal: “O que nós queremos é que acabem as eleições e os dois lados não tenham nenhuma dúvida”, afirma o presidente  https://t.co…\n",
      "@Carlos_Junior83 @tuquita128 Saquear o Bolsonaro tá saqueando e colocando sigilo de 100 anos. Hoje tem 450 sem licitação pra compras das emendas secretas.\n",
      "RT @minc_rj: Negar a motivação política de um assassino que, antes de puxar o gatilho, grita \"aqui é Bolsonaro\" é ridículo, pernicioso e bu…\n",
      "RT @cachorroantipet: “Primeiro a gente tira a Dilma, depois a gente vê o resto”. “Primeiro a gente tira o Bolsonaro, depois a gente vê o re…\n",
      "RT @NewsBolsonaro_: Lute pela reeleição do pré-candidato (Jair Bolsonaro) como se sua vida dependesse disso, porque de fato, ela depende. #…\n",
      "RT @BrazilFight: MÍRIAM LEITÃO VIROU VIDENTE?\n",
      "\"Bolsonaro fracassou na reunião dos embaixadores antes do encontro.\"\n",
      "A REUNIÃO ACONTECERÁ ÀS…\n",
      "RT @AdrillesPistola: É hoje que Bolsonaro irá reunir os embaixadores para explicar como funciona nosso processo eleitoral?\n",
      "RT @GuilhermeBoulos: Governo Bolsonaro fecha contrato de publicidade de R$450 milhões, em licitação sob suspeita do TCU. Vale tudo no fim d…\n",
      "RT @BrazilFight: Desemprego \n",
      "2018 - 12,3%\n",
      "2022 - 9,4%\n",
      "Contas públicas \n",
      "2018 - prejuízo 108 bi \n",
      "2022 - superávit 109 bi\n",
      "Empresas estatais \n",
      "2…\n",
      "RT @senadorhumberto: Uma ótima sugestão da jornalista Cristina Serra. O \"revogaço\" não resolverá tudo, pois já há um imenso arsenal em mãos…\n",
      "@FelipeMoreno7 @opiniao_questao @BolsonaroSP @brom_elisa @jairbolsonaro Auxílio de 600 reais foi aprovado em 2020 e ficou quase 1 ano, com mulheres mães solteiras recebendo 1200 reaisz ou vc ja se esqueceu disso?! . O bolsonaro q eu saiba reduziu impostos desde 2019. IMPOSTOS no diesel e gás esta zerado desde março de 2020\n",
      "RT @marco_trigueiro: É incrível o carisma desse cara. Jair BOLSONARO na minha Natal-RN https://t.co/mV7Xg5XBb4\n",
      "RT @filipesabara: Nossa, você defende o Bolsonaro abertamente? E como ficam suas empresas e seus sócios? E o instituto que você toca? Você…\n",
      "RT @2Marilupamc: Quando a pessoa apoia o LULA para tirar o Bolsonaro do poder, ela não precisa necessariamente apoiar o PT, mas parece que…\n",
      "RT @Fa1ryNight: Março de 2022 - Repercussão negativa da fala de Bolsonaro  \n",
      "\n",
      "Julho de 2022 - Zelensky vai ligar para Bolsonaro.\n",
      "\n",
      "😚 https://…\n",
      "RT @edumeirabr: Passei dois dias estudando e revisando minuciosamente cada uma das medidas do governo Bolsonaro durante a pandemia, todos o…\n",
      "RT @marco_trigueiro: É incrível o carisma desse cara. Jair BOLSONARO na minha Natal-RN https://t.co/mV7Xg5XBb4\n",
      "Brasil acima de tudo\n",
      "bolsonaro mame meus ovo https://t.co/g9YvSvBtlx\n",
      "RT @Fa1ryNight: Bolsonaro é O Líder porque inspira pessoas.\n",
      "Dificilmente veremos um fenômeno como ele novamente.\n",
      "RT @Biakicis: E aí, capitão, Lula ou Bolsonaro? https://t.co/r4AoxLPeA2\n",
      "RT @BrazilFight: Antes da pandemia, o Brasil tinha uma relação de dívida/pib de 74%. Chegou a 80%, após os auxílios emergenciais. Agora, es…\n",
      "RT @Biakicis: E aí, capitão, Lula ou Bolsonaro? https://t.co/r4AoxLPeA2\n",
      "@senadorhumberto BOLSONARO NUNCA MAIS\n",
      "RT @GuilhermeBoulos: O Brasil perdeu o equivalente a um estado do RJ de vegetação nativa nos últimos 3 anos, aponta relatório do MapBiomas.…\n",
      "RT @FabianoSeveri14: PREOCUPANTE! Com 3 anos de política de armamento de Bolsonaro temos 605 mil civis armados. O número é maior do que o e…\n",
      "RT @crisdemarchii: \"Nós não iremos pra lugar nenhum, ficaremos aqui, porque essa é nossa Pátria\" Pr. Bolsonaro 👊🇧🇷💛💚👇 https://t.co/PHs1RYvz…\n",
      "RT @Fa1ryNight: Bolsonaro deu um perdido na imprensa\n",
      "E o q ela faz ? \n",
      "Choooraaaa 🤣🤣🤣🤣😂🤣\n",
      "\n",
      "PIPIPI PÓPÓPÓ por 2X - “ Importante destacar que o…\n"
     ]
    }
   ],
   "source": [
    "for tweet in tweets:\n",
    "    print(tweet.text)"
   ]
  },
  {
   "cell_type": "code",
   "execution_count": 10,
   "id": "80837a77",
   "metadata": {},
   "outputs": [],
   "source": [
    "tweets_list = [[tweet.text]for tweet in tweets]\n",
    "df = pd.DataFrame(tweets_list,columns=['Texto'])\n",
    "pd.options.display.max_colwidth = 200"
   ]
  },
  {
   "cell_type": "code",
   "execution_count": 25,
   "id": "9ff3be43",
   "metadata": {},
   "outputs": [],
   "source": [
    "base = []"
   ]
  },
  {
   "cell_type": "code",
   "execution_count": 12,
   "id": "25dad8d8",
   "metadata": {},
   "outputs": [],
   "source": [
    "texto = 'RT @BrazilFight: Hoje acontecerá a reunião de Bolsonaro com embaixadores. O presidente prometeu revelar provas de que ele venceu no primeir…'"
   ]
  },
  {
   "cell_type": "code",
   "execution_count": 13,
   "id": "4c1114b5",
   "metadata": {},
   "outputs": [],
   "source": [
    "posicao = texto.find(':')"
   ]
  },
  {
   "cell_type": "code",
   "execution_count": 14,
   "id": "fbf10d5f",
   "metadata": {},
   "outputs": [
    {
     "data": {
      "text/plain": [
       "'Hoje acontecerá a reunião de Bolsonaro com embaixadores. O presidente prometeu revelar provas de que ele venceu no primeir…'"
      ]
     },
     "execution_count": 14,
     "metadata": {},
     "output_type": "execute_result"
    }
   ],
   "source": [
    "texto[posicao+2:]"
   ]
  },
  {
   "cell_type": "code",
   "execution_count": 15,
   "id": "ae400626",
   "metadata": {},
   "outputs": [],
   "source": [
    "for i in tweets:\n",
    "    linha = [0 for j in range(5)]\n",
    "    linha[0] = i.text\n",
    "    texto =i.text\n",
    "    \n",
    "    if ('RT' in texto):\n",
    "        posicao = texto.find(':')\n",
    "        texto = texto[posicao+2]\n",
    "        linha[4] = 1 \n",
    "    linha[1] = 1 if ('Bolsonaro' in texto.lower()) else 0\n",
    "    linha[2] = 1 if ('Eleicoes2022' in texto.lower()) else 0\n",
    "    linha[3] = 1 if ('Reuniao' in texto.lower()) else 0\n",
    "    \n",
    "    base.append(linha)\n",
    "    "
   ]
  },
  {
   "cell_type": "code",
   "execution_count": 16,
   "id": "4e24af46",
   "metadata": {},
   "outputs": [
    {
     "data": {
      "text/html": [
       "<div>\n",
       "<style scoped>\n",
       "    .dataframe tbody tr th:only-of-type {\n",
       "        vertical-align: middle;\n",
       "    }\n",
       "\n",
       "    .dataframe tbody tr th {\n",
       "        vertical-align: top;\n",
       "    }\n",
       "\n",
       "    .dataframe thead th {\n",
       "        text-align: right;\n",
       "    }\n",
       "</style>\n",
       "<table border=\"1\" class=\"dataframe\">\n",
       "  <thead>\n",
       "    <tr style=\"text-align: right;\">\n",
       "      <th></th>\n",
       "      <th>Texto</th>\n",
       "      <th>Bolsonaro</th>\n",
       "      <th>Eleicoes2022</th>\n",
       "      <th>Reuniao</th>\n",
       "      <th>RT</th>\n",
       "    </tr>\n",
       "  </thead>\n",
       "  <tbody>\n",
       "    <tr>\n",
       "      <th>0</th>\n",
       "      <td>@geraldop1hot @Rconstantino Bolsonaro não tenha dúvida</td>\n",
       "      <td>0</td>\n",
       "      <td>0</td>\n",
       "      <td>0</td>\n",
       "      <td>0</td>\n",
       "    </tr>\n",
       "    <tr>\n",
       "      <th>1</th>\n",
       "      <td>RT @abocadelobo: 🚨🐺🐺NÚMEROS IMPORTANTES\\n\\n82% confiam nas urnas eletrônicas\\n\\n70% dizem que aumento da gasolina é culpa do Bolsonaro\\n\\n53% NUN…</td>\n",
       "      <td>0</td>\n",
       "      <td>0</td>\n",
       "      <td>0</td>\n",
       "      <td>1</td>\n",
       "    </tr>\n",
       "    <tr>\n",
       "      <th>2</th>\n",
       "      <td>RT @filipesabara: Nossa, você defende o Bolsonaro abertamente? E como ficam suas empresas e seus sócios? E o instituto que você toca? Você…</td>\n",
       "      <td>0</td>\n",
       "      <td>0</td>\n",
       "      <td>0</td>\n",
       "      <td>1</td>\n",
       "    </tr>\n",
       "    <tr>\n",
       "      <th>3</th>\n",
       "      <td>RT @Biakicis: E aí, capitão, Lula ou Bolsonaro? https://t.co/r4AoxLPeA2</td>\n",
       "      <td>0</td>\n",
       "      <td>0</td>\n",
       "      <td>0</td>\n",
       "      <td>1</td>\n",
       "    </tr>\n",
       "    <tr>\n",
       "      <th>4</th>\n",
       "      <td>RT @Antagoniza11: Novo jingle da campanha de Bolsonaro está bombando em todo o nordeste.\\nFaçam chegar a mais pessoas.\\n@jairbolsonaro @Carlo…</td>\n",
       "      <td>0</td>\n",
       "      <td>0</td>\n",
       "      <td>0</td>\n",
       "      <td>1</td>\n",
       "    </tr>\n",
       "    <tr>\n",
       "      <th>...</th>\n",
       "      <td>...</td>\n",
       "      <td>...</td>\n",
       "      <td>...</td>\n",
       "      <td>...</td>\n",
       "      <td>...</td>\n",
       "    </tr>\n",
       "    <tr>\n",
       "      <th>95</th>\n",
       "      <td>@senadorhumberto BOLSONARO NUNCA MAIS</td>\n",
       "      <td>0</td>\n",
       "      <td>0</td>\n",
       "      <td>0</td>\n",
       "      <td>0</td>\n",
       "    </tr>\n",
       "    <tr>\n",
       "      <th>96</th>\n",
       "      <td>RT @GuilhermeBoulos: O Brasil perdeu o equivalente a um estado do RJ de vegetação nativa nos últimos 3 anos, aponta relatório do MapBiomas.…</td>\n",
       "      <td>0</td>\n",
       "      <td>0</td>\n",
       "      <td>0</td>\n",
       "      <td>1</td>\n",
       "    </tr>\n",
       "    <tr>\n",
       "      <th>97</th>\n",
       "      <td>RT @FabianoSeveri14: PREOCUPANTE! Com 3 anos de política de armamento de Bolsonaro temos 605 mil civis armados. O número é maior do que o e…</td>\n",
       "      <td>0</td>\n",
       "      <td>0</td>\n",
       "      <td>0</td>\n",
       "      <td>1</td>\n",
       "    </tr>\n",
       "    <tr>\n",
       "      <th>98</th>\n",
       "      <td>RT @crisdemarchii: \"Nós não iremos pra lugar nenhum, ficaremos aqui, porque essa é nossa Pátria\" Pr. Bolsonaro 👊🇧🇷💛💚👇 https://t.co/PHs1RYvz…</td>\n",
       "      <td>0</td>\n",
       "      <td>0</td>\n",
       "      <td>0</td>\n",
       "      <td>1</td>\n",
       "    </tr>\n",
       "    <tr>\n",
       "      <th>99</th>\n",
       "      <td>RT @Fa1ryNight: Bolsonaro deu um perdido na imprensa\\nE o q ela faz ? \\nChoooraaaa 🤣🤣🤣🤣😂🤣\\n\\nPIPIPI PÓPÓPÓ por 2X - “ Importante destacar que o…</td>\n",
       "      <td>0</td>\n",
       "      <td>0</td>\n",
       "      <td>0</td>\n",
       "      <td>1</td>\n",
       "    </tr>\n",
       "  </tbody>\n",
       "</table>\n",
       "<p>100 rows × 5 columns</p>\n",
       "</div>"
      ],
      "text/plain": [
       "                                                                                                                                                 Texto  \\\n",
       "0                                                                                               @geraldop1hot @Rconstantino Bolsonaro não tenha dúvida   \n",
       "1   RT @abocadelobo: 🚨🐺🐺NÚMEROS IMPORTANTES\\n\\n82% confiam nas urnas eletrônicas\\n\\n70% dizem que aumento da gasolina é culpa do Bolsonaro\\n\\n53% NUN…   \n",
       "2          RT @filipesabara: Nossa, você defende o Bolsonaro abertamente? E como ficam suas empresas e seus sócios? E o instituto que você toca? Você…   \n",
       "3                                                                              RT @Biakicis: E aí, capitão, Lula ou Bolsonaro? https://t.co/r4AoxLPeA2   \n",
       "4       RT @Antagoniza11: Novo jingle da campanha de Bolsonaro está bombando em todo o nordeste.\\nFaçam chegar a mais pessoas.\\n@jairbolsonaro @Carlo…   \n",
       "..                                                                                                                                                 ...   \n",
       "95                                                                                                               @senadorhumberto BOLSONARO NUNCA MAIS   \n",
       "96        RT @GuilhermeBoulos: O Brasil perdeu o equivalente a um estado do RJ de vegetação nativa nos últimos 3 anos, aponta relatório do MapBiomas.…   \n",
       "97        RT @FabianoSeveri14: PREOCUPANTE! Com 3 anos de política de armamento de Bolsonaro temos 605 mil civis armados. O número é maior do que o e…   \n",
       "98        RT @crisdemarchii: \"Nós não iremos pra lugar nenhum, ficaremos aqui, porque essa é nossa Pátria\" Pr. Bolsonaro 👊🇧🇷💛💚👇 https://t.co/PHs1RYvz…   \n",
       "99    RT @Fa1ryNight: Bolsonaro deu um perdido na imprensa\\nE o q ela faz ? \\nChoooraaaa 🤣🤣🤣🤣😂🤣\\n\\nPIPIPI PÓPÓPÓ por 2X - “ Importante destacar que o…   \n",
       "\n",
       "    Bolsonaro  Eleicoes2022  Reuniao  RT  \n",
       "0           0             0        0   0  \n",
       "1           0             0        0   1  \n",
       "2           0             0        0   1  \n",
       "3           0             0        0   1  \n",
       "4           0             0        0   1  \n",
       "..        ...           ...      ...  ..  \n",
       "95          0             0        0   0  \n",
       "96          0             0        0   1  \n",
       "97          0             0        0   1  \n",
       "98          0             0        0   1  \n",
       "99          0             0        0   1  \n",
       "\n",
       "[100 rows x 5 columns]"
      ]
     },
     "metadata": {},
     "output_type": "display_data"
    }
   ],
   "source": [
    "base22 = pd.DataFrame(base)\n",
    "base22.columns = ['Texto','Bolsonaro','Eleicoes2022','Reuniao','RT']\n",
    "display(base22)"
   ]
  },
  {
   "cell_type": "code",
   "execution_count": 17,
   "id": "344d1778",
   "metadata": {},
   "outputs": [
    {
     "data": {
      "text/plain": [
       "Texto           @geraldop1hot @Rconstantino Bolsonaro não tenha dúvidaRT @abocadelobo: 🚨🐺🐺NÚMEROS IMPORTANTES\\n\\n82% confiam nas urnas eletrônicas\\n\\n70% dizem que aumento da gasolina é culpa do Bolsonaro\\n\\n53% ...\n",
       "Bolsonaro                                                                                                                                                                                                             0\n",
       "Eleicoes2022                                                                                                                                                                                                          0\n",
       "Reuniao                                                                                                                                                                                                               0\n",
       "RT                                                                                                                                                                                                                   75\n",
       "dtype: object"
      ]
     },
     "execution_count": 17,
     "metadata": {},
     "output_type": "execute_result"
    }
   ],
   "source": [
    "base22.sum()"
   ]
  },
  {
   "cell_type": "code",
   "execution_count": 22,
   "id": "c6bbd375",
   "metadata": {},
   "outputs": [],
   "source": [
    "baseView = base22.drop(['Texto','Bolsonaro','Eleicoes2022','Reuniao','RT'],axis=1)"
   ]
  },
  {
   "cell_type": "code",
   "execution_count": 23,
   "id": "2d182ba5",
   "metadata": {},
   "outputs": [
    {
     "data": {
      "text/plain": [
       "Series([], dtype: float64)"
      ]
     },
     "execution_count": 23,
     "metadata": {},
     "output_type": "execute_result"
    }
   ],
   "source": [
    "baseView.sum()"
   ]
  },
  {
   "cell_type": "code",
   "execution_count": 24,
   "id": "0d4f2275",
   "metadata": {},
   "outputs": [],
   "source": [
    "base22.to_csv(\"baseView22.csv\")"
   ]
  },
  {
   "cell_type": "code",
   "execution_count": null,
   "id": "06d7c1e7",
   "metadata": {},
   "outputs": [],
   "source": []
  }
 ],
 "metadata": {
  "kernelspec": {
   "display_name": "Python 3 (ipykernel)",
   "language": "python",
   "name": "python3"
  },
  "language_info": {
   "codemirror_mode": {
    "name": "ipython",
    "version": 3
   },
   "file_extension": ".py",
   "mimetype": "text/x-python",
   "name": "python",
   "nbconvert_exporter": "python",
   "pygments_lexer": "ipython3",
   "version": "3.9.12"
  }
 },
 "nbformat": 4,
 "nbformat_minor": 5
}
